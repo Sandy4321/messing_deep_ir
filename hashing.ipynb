{
 "cells": [
  {
   "cell_type": "markdown",
   "metadata": {},
   "source": [
    "# Deep Supervised Hashing\n",
    "\n",
    "In this tutorial we will train a neural network to extract hash codes for images. As before, two different evaluation setups will be used:\n",
    "\n",
    "1. **in-domain evaluation**, where test (unknown) data from the *same* domain will be used for the evalutation,\n",
    "2. **out-of-domain evaluation**, where data from a *different* domain will be used for the evaluation.\n"
   ]
  },
  {
   "cell_type": "markdown",
   "metadata": {},
   "source": [
    "Do the regular stuff (load the data, split and normalize)!"
   ]
  },
  {
   "cell_type": "code",
   "execution_count": 1,
   "metadata": {},
   "outputs": [
    {
     "name": "stderr",
     "output_type": "stream",
     "text": [
      "/usr/local/lib/python3.5/dist-packages/h5py/__init__.py:36: FutureWarning: Conversion of the second argument of issubdtype from `float` to `np.floating` is deprecated. In future, it will be treated as `np.float64 == np.dtype(float).type`.\n",
      "  from ._conv import register_converters as _register_converters\n",
      "Using TensorFlow backend.\n"
     ]
    }
   ],
   "source": [
    "import keras\n",
    "from keras.datasets import cifar10\n",
    "import numpy as np\n",
    "\n",
    "(x_train, y_train), (x_test, y_test) = cifar10.load_data()\n"
   ]
  },
  {
   "cell_type": "code",
   "execution_count": 2,
   "metadata": {},
   "outputs": [
    {
     "name": "stdout",
     "output_type": "stream",
     "text": [
      "Train data (in):  (30000, 32, 32, 3) (30000, 1)\n",
      "Test data (in):  (6000, 32, 32, 3) (6000, 1)\n",
      "Train data (out):  (20000, 32, 32, 3) (20000, 1)\n",
      "Test data (out):  (4000, 32, 32, 3) (4000, 1)\n"
     ]
    }
   ],
   "source": [
    "# Split the dataset into in-domain and out-of-domain data\n",
    "train_idx_out = np.logical_or(y_train==0, np.logical_or(y_train==1, np.logical_or(y_train==2, y_train==3)))[:, 0]\n",
    "test_idx_out = np.logical_or(y_test==0, np.logical_or(y_test==1,  np.logical_or(y_test==2, y_test==3)))[:, 0]\n",
    "\n",
    "x_train_in, y_train_in = x_train[np.logical_not(train_idx_out)], y_train[np.logical_not(train_idx_out)]\n",
    "x_test_in, y_test_in = x_test[np.logical_not(test_idx_out)], y_test[np.logical_not(test_idx_out)]\n",
    "\n",
    "# Out-of-domain\n",
    "x_train_out, y_train_out = x_train[train_idx_out], y_train[train_idx_out]\n",
    "x_test_out, y_test_out = x_test[test_idx_out], y_test[test_idx_out]\n",
    "\n",
    "print(\"Train data (in): \", x_train_in.shape, y_train_in.shape)\n",
    "print(\"Test data (in): \",  x_test_in.shape, y_test_in.shape)\n",
    "print(\"Train data (out): \", x_train_out.shape, y_train_out.shape)\n",
    "print(\"Test data (out): \", x_test_out.shape, y_test_out.shape)\n"
   ]
  },
  {
   "cell_type": "code",
   "execution_count": 3,
   "metadata": {},
   "outputs": [],
   "source": [
    "# Normalize the data\n",
    "x_train_out = x_train_out/255.0\n",
    "x_test_out = x_test_out/255.0\n",
    "x_train_in = x_train_in/255.0\n",
    "x_test_in = x_test_in/255.0"
   ]
  },
  {
   "cell_type": "code",
   "execution_count": 4,
   "metadata": {},
   "outputs": [],
   "source": [
    "y_train_out = keras.utils.to_categorical(y_train_out, 10)\n",
    "y_test_out = keras.utils.to_categorical(y_test_out, 10)\n",
    "y_train_in = keras.utils.to_categorical(y_train_in, 10)\n",
    "y_test_in = keras.utils.to_categorical(y_test_in, 10)"
   ]
  },
  {
   "cell_type": "markdown",
   "metadata": {},
   "source": [
    "Define the neural network! Also, note that the size of the output layer of the neural network controls the size of the learned has codes (in this tutorial hash codes of 32 bits are used)."
   ]
  },
  {
   "cell_type": "code",
   "execution_count": 5,
   "metadata": {},
   "outputs": [],
   "source": [
    "from keras.models import Sequential\n",
    "import keras.optimizers\n",
    "from keras.layers import Dense, Dropout, Activation, Flatten\n",
    "from keras.layers import Conv2D, MaxPooling2D\n",
    "\n",
    "model = Sequential()\n",
    "model.add(Conv2D(32, (3, 3), padding='same',\n",
    "                 input_shape=(32, 32, 3)))\n",
    "model.add(Activation('relu'))\n",
    "model.add(Conv2D(32, (3, 3)))\n",
    "model.add(Activation('relu'))\n",
    "model.add(MaxPooling2D(pool_size=(2, 2)))\n",
    "model.add(Dropout(0.25))\n",
    "\n",
    "model.add(Conv2D(64, (3, 3), padding='same'))\n",
    "model.add(Activation('relu'))\n",
    "model.add(Conv2D(64, (3, 3)))\n",
    "model.add(Activation('relu'))\n",
    "model.add(MaxPooling2D(pool_size=(2, 2)))\n",
    "model.add(Dropout(0.25))\n",
    "\n",
    "model.add(Flatten())\n",
    "model.add(Dense(512))\n",
    "model.add(Activation('relu'))\n",
    "\n",
    "# Extract 32-bit hash codes\n",
    "model.add(Dense(32))\n"
   ]
  },
  {
   "cell_type": "code",
   "execution_count": 11,
   "metadata": {},
   "outputs": [
    {
     "name": "stdout",
     "output_type": "stream",
     "text": [
      "_________________________________________________________________\n",
      "Layer (type)                 Output Shape              Param #   \n",
      "=================================================================\n",
      "conv2d_1 (Conv2D)            (None, 32, 32, 32)        896       \n",
      "_________________________________________________________________\n",
      "activation_1 (Activation)    (None, 32, 32, 32)        0         \n",
      "_________________________________________________________________\n",
      "conv2d_2 (Conv2D)            (None, 30, 30, 32)        9248      \n",
      "_________________________________________________________________\n",
      "activation_2 (Activation)    (None, 30, 30, 32)        0         \n",
      "_________________________________________________________________\n",
      "max_pooling2d_1 (MaxPooling2 (None, 15, 15, 32)        0         \n",
      "_________________________________________________________________\n",
      "dropout_1 (Dropout)          (None, 15, 15, 32)        0         \n",
      "_________________________________________________________________\n",
      "conv2d_3 (Conv2D)            (None, 15, 15, 64)        18496     \n",
      "_________________________________________________________________\n",
      "activation_3 (Activation)    (None, 15, 15, 64)        0         \n",
      "_________________________________________________________________\n",
      "conv2d_4 (Conv2D)            (None, 13, 13, 64)        36928     \n",
      "_________________________________________________________________\n",
      "activation_4 (Activation)    (None, 13, 13, 64)        0         \n",
      "_________________________________________________________________\n",
      "max_pooling2d_2 (MaxPooling2 (None, 6, 6, 64)          0         \n",
      "_________________________________________________________________\n",
      "dropout_2 (Dropout)          (None, 6, 6, 64)          0         \n",
      "_________________________________________________________________\n",
      "flatten_1 (Flatten)          (None, 2304)              0         \n",
      "_________________________________________________________________\n",
      "dense_1 (Dense)              (None, 512)               1180160   \n",
      "_________________________________________________________________\n",
      "activation_5 (Activation)    (None, 512)               0         \n",
      "_________________________________________________________________\n",
      "dense_2 (Dense)              (None, 32)                16416     \n",
      "=================================================================\n",
      "Total params: 1,262,144\n",
      "Trainable params: 1,262,144\n",
      "Non-trainable params: 0\n",
      "_________________________________________________________________\n"
     ]
    }
   ],
   "source": [
    "model.summary()"
   ]
  },
  {
   "cell_type": "markdown",
   "metadata": {},
   "source": [
    "Next, we have to define a simple pairwise loss function. Note that we also impose a hashing constraint to ensure that the sign function can be readily applied to obtain final the hash codes. This function was proposed in \"Deep Supervised Hashing for Fast Image Retrieval\", CVPR 2016 by Haomiao Liu, Ruiping Wang, Shiguang Shan, and Xilin Chen."
   ]
  },
  {
   "cell_type": "code",
   "execution_count": 7,
   "metadata": {},
   "outputs": [],
   "source": [
    "import tensorflow as tf\n",
    "import keras.backend as K\n",
    "\n",
    "def hashing_loss(y_true, y_pred, m, alpha):\n",
    "    \"\"\"\n",
    "    Implements the loss described in the following paper:\n",
    "    https://www.cv-foundation.org/openaccess/content_cvpr_2016/papers/Liu_Deep_Supervised_Hashing_CVPR_2016_paper.pdf\n",
    "    \n",
    "    \"\"\"\n",
    "\n",
    "    # Compute the pairwise distances      \n",
    "    distances = tf.reduce_sum(tf.squared_difference(tf.expand_dims(y_pred, 1), tf.expand_dims(y_pred, 0)), 2)\n",
    "    # Compute the ground truth similarity matrix\n",
    "    targets = tf.matmul(y_true, tf.transpose(y_true))\n",
    "\n",
    "    hashing_regularizer = tf.reduce_sum(tf.abs((tf.abs(y_pred) - 1)))\n",
    "\n",
    "    supervised_loss = tf.reduce_sum(0.5*targets*distances + 0.5*(1-targets)*tf.maximum(0*distances, m - distances))\n",
    "    \n",
    "    return supervised_loss + alpha * hashing_regularizer"
   ]
  },
  {
   "cell_type": "code",
   "execution_count": 8,
   "metadata": {},
   "outputs": [],
   "source": [
    "# Set the hyper-parameters\n",
    "# m set according to paper to 2 * number of bits\n",
    "my_custom_loss = lambda x,y: hashing_loss(x, y, m=2*32, alpha=0.001)\n",
    "\n",
    "# Compile the model\n",
    "opt = keras.optimizers.adam(lr=0.001)\n",
    "model.compile(loss=my_custom_loss, optimizer=opt)"
   ]
  },
  {
   "cell_type": "markdown",
   "metadata": {},
   "source": [
    "We are now ready to fit our model!"
   ]
  },
  {
   "cell_type": "code",
   "execution_count": 9,
   "metadata": {},
   "outputs": [
    {
     "name": "stdout",
     "output_type": "stream",
     "text": [
      "Epoch 1/30\n",
      "30000/30000 [==============================] - 6s 201us/step - loss: 133293.9433\n",
      "Epoch 2/30\n",
      "30000/30000 [==============================] - 4s 143us/step - loss: 111630.8843\n",
      "Epoch 3/30\n",
      "30000/30000 [==============================] - 4s 138us/step - loss: 105922.5145\n",
      "Epoch 4/30\n",
      "30000/30000 [==============================] - 4s 131us/step - loss: 100921.5786\n",
      "Epoch 5/30\n",
      "30000/30000 [==============================] - 4s 137us/step - loss: 94779.5975\n",
      "Epoch 6/30\n",
      "30000/30000 [==============================] - 4s 132us/step - loss: 89632.8075\n",
      "Epoch 7/30\n",
      "30000/30000 [==============================] - 4s 133us/step - loss: 84829.8017\n",
      "Epoch 8/30\n",
      "30000/30000 [==============================] - 4s 133us/step - loss: 80809.3860\n",
      "Epoch 9/30\n",
      "30000/30000 [==============================] - 4s 135us/step - loss: 77095.3818\n",
      "Epoch 10/30\n",
      "30000/30000 [==============================] - 4s 135us/step - loss: 74142.5800\n",
      "Epoch 11/30\n",
      "30000/30000 [==============================] - 4s 135us/step - loss: 71315.3160\n",
      "Epoch 12/30\n",
      "30000/30000 [==============================] - 4s 134us/step - loss: 67221.2745\n",
      "Epoch 13/30\n",
      "30000/30000 [==============================] - 4s 132us/step - loss: 64958.4720\n",
      "Epoch 14/30\n",
      "30000/30000 [==============================] - 4s 132us/step - loss: 62127.7764\n",
      "Epoch 15/30\n",
      "30000/30000 [==============================] - 4s 134us/step - loss: 59580.0513\n",
      "Epoch 16/30\n",
      "30000/30000 [==============================] - 4s 132us/step - loss: 56491.3720\n",
      "Epoch 17/30\n",
      "30000/30000 [==============================] - 4s 134us/step - loss: 54307.3924\n",
      "Epoch 18/30\n",
      "30000/30000 [==============================] - 4s 138us/step - loss: 51366.0387\n",
      "Epoch 19/30\n",
      "30000/30000 [==============================] - 4s 137us/step - loss: 49182.6204\n",
      "Epoch 20/30\n",
      "30000/30000 [==============================] - 4s 134us/step - loss: 46868.8214\n",
      "Epoch 21/30\n",
      "30000/30000 [==============================] - 4s 134us/step - loss: 43311.7098\n",
      "Epoch 22/30\n",
      "30000/30000 [==============================] - 4s 134us/step - loss: 41358.6067\n",
      "Epoch 23/30\n",
      "30000/30000 [==============================] - 4s 130us/step - loss: 39759.8867\n",
      "Epoch 24/30\n",
      "30000/30000 [==============================] - 4s 130us/step - loss: 37626.2542\n",
      "Epoch 25/30\n",
      "30000/30000 [==============================] - 4s 128us/step - loss: 35644.7019\n",
      "Epoch 26/30\n",
      "30000/30000 [==============================] - 4s 130us/step - loss: 33166.2097\n",
      "Epoch 27/30\n",
      "30000/30000 [==============================] - 4s 130us/step - loss: 32091.1708\n",
      "Epoch 28/30\n",
      "30000/30000 [==============================] - 4s 133us/step - loss: 30397.6498\n",
      "Epoch 29/30\n",
      "30000/30000 [==============================] - 4s 130us/step - loss: 28425.8557\n",
      "Epoch 30/30\n",
      "30000/30000 [==============================] - 4s 131us/step - loss: 26628.6096\n"
     ]
    },
    {
     "data": {
      "text/plain": [
       "<keras.callbacks.History at 0x7f3afeb2c940>"
      ]
     },
     "execution_count": 9,
     "metadata": {},
     "output_type": "execute_result"
    }
   ],
   "source": [
    "model.fit(x_train_in, y_train_in, batch_size=128,  epochs=30,\n",
    "              shuffle=True, verbose=1)"
   ]
  },
  {
   "cell_type": "markdown",
   "metadata": {},
   "source": [
    "Finally, evaluate the model! Note that we use the hamming distance to retrieval the relevant images from the database.\n"
   ]
  },
  {
   "cell_type": "code",
   "execution_count": 10,
   "metadata": {},
   "outputs": [
    {
     "name": "stderr",
     "output_type": "stream",
     "text": [
      "100%|██████████| 1/1 [00:00<00:00,  6.33it/s]\n",
      "100%|██████████| 1/1 [00:00<00:00,  6.54it/s]\n"
     ]
    },
    {
     "name": "stdout",
     "output_type": "stream",
     "text": [
      "In-domain mAP:90.2954 \n",
      "Out-of-domain mAP:49.4996 \n"
     ]
    },
    {
     "data": {
      "text/plain": [
       "Text(0.5,1,'out-of-domain precision-scope')"
      ]
     },
     "execution_count": 10,
     "metadata": {},
     "output_type": "execute_result"
    },
    {
     "data": {
      "image/png": "[encoded data removed]",
      "text/plain": [
       "<Figure size 432x288 with 1 Axes>"
      ]
     },
     "metadata": {},
     "output_type": "display_data"
    },
    {
     "data": {
      "image/png": "[encoded data removed]",
      "text/plain": [
       "<Figure size 432x288 with 1 Axes>"
      ]
     },
     "metadata": {},
     "output_type": "display_data"
    },
    {
     "data": {
      "image/png": "[encoded data removed]",
      "text/plain": [
       "<Figure size 432x288 with 1 Axes>"
      ]
     },
     "metadata": {},
     "output_type": "display_data"
    },
    {
     "data": {
      "image/png": "[encoded data removed]",
      "text/plain": [
       "<Figure size 432x288 with 1 Axes>"
      ]
     },
     "metadata": {},
     "output_type": "display_data"
    }
   ],
   "source": [
    "from evaluation import evaluate_database\n",
    "\n",
    "import matplotlib.pyplot as plt\n",
    "%matplotlib inline\n",
    "\n",
    "for i in range(123, 127):\n",
    "     plt.figure(i)\n",
    "     plt.clf()\n",
    "\n",
    "\n",
    "n_samples = 1000\n",
    "feat_train_in = np.sign(model.predict(x_train_in[:n_samples]))\n",
    "feat_test_in =  np.sign(model.predict(x_test_in[:n_samples]))\n",
    "    \n",
    "feat_train_out = np.sign(model.predict(x_train_out))\n",
    "feat_test_out = np.sign(model.predict(x_test_out))\n",
    "    \n",
    "    \n",
    "m_ap, precision, recall, precision_at_recall_levels, ap, hamming_2_prec = \\\n",
    "    evaluate_database(feat_train_in[:n_samples], np.argmax(y_train_in[:n_samples], axis=1),  \n",
    "                      feat_test_in[:n_samples], np.argmax(y_test_in[:n_samples], axis=1), metric='hamming' )\n",
    "    \n",
    "print(\"In-domain mAP:%3.4f \"%(100*m_ap))\n",
    "plt.figure(123)\n",
    "plt.plot(recall, precision)\n",
    "\n",
    "plt.figure(124)\n",
    "plt.plot(np.arange(50), precision[:50], )\n",
    "    \n",
    "m_ap, precision, recall, precision_at_recall_levels, ap, hamming_2_prec = \\\n",
    "    evaluate_database(feat_train_out[:n_samples], np.argmax(y_train_out[:n_samples], axis=1),  \n",
    "                     feat_test_out[:n_samples], np.argmax(y_test_out[:n_samples], axis=1), metric='hamming' )\n",
    "    \n",
    "print(\"Out-of-domain mAP:%3.4f \"%(100*m_ap))\n",
    "plt.figure(125)\n",
    "plt.plot(recall, precision)\n",
    "\n",
    "plt.figure(126)\n",
    "plt.plot(np.arange(50), precision[:50], )\n",
    "\n",
    "# Make the plots a bit prettier\n",
    "\n",
    "plt.figure(123)\n",
    "plt.xlabel('recall')\n",
    "plt.ylabel('precision')\n",
    "plt.title('in-domain precision-recall')\n",
    "\n",
    "plt.figure(124)\n",
    "plt.xlabel('k')\n",
    "plt.ylabel('precision')\n",
    "plt.title('in-domain precision-scope')\n",
    "\n",
    "plt.figure(125)\n",
    "plt.xlabel('recall')\n",
    "plt.ylabel('precision')\n",
    "plt.title('out-of-domain precision-recall')\n",
    "\n",
    "plt.figure(126)\n",
    "plt.xlabel('k')\n",
    "plt.ylabel('precision')\n",
    "plt.title('out-of-domain precision-scope')\n"
   ]
  }
 ],
 "metadata": {
  "kernelspec": {
   "display_name": "Python 3",
   "language": "python",
   "name": "python3"
  },
  "language_info": {
   "codemirror_mode": {
    "name": "ipython",
    "version": 3
   },
   "file_extension": ".py",
   "mimetype": "text/x-python",
   "name": "python",
   "nbconvert_exporter": "python",
   "pygments_lexer": "ipython3",
   "version": "3.5.2"
  }
 },
 "nbformat": 4,
 "nbformat_minor": 2
}
